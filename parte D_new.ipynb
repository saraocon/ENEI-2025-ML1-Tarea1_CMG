{
 "cells": [
  {
   "cell_type": "markdown",
   "id": "9444038f",
   "metadata": {
    "id": "9444038f"
   },
   "source": [
    "## Part D. Bike Rentals\n",
    "### Parte primera\n",
    "#### 1. **Dataset**\n",
    "\n",
    "\n"
   ]
  },
  {
   "cell_type": "code",
   "execution_count": null,
   "id": "M0Bs3gA_peiZ",
   "metadata": {
    "colab": {
     "base_uri": "https://localhost:8080/"
    },
    "id": "M0Bs3gA_peiZ",
    "outputId": "fc14f123-ebb1-465c-b8ab-ee47400b3709"
   },
   "outputs": [],
   "source": [
    "data = pd.read_csv('../data/hour.csv')\n",
    "data.info()"
   ]
  },
  {
   "cell_type": "code",
   "execution_count": null,
   "id": "uMoaJ86TAp8h",
   "metadata": {
    "colab": {
     "base_uri": "https://localhost:8080/"
    },
    "id": "uMoaJ86TAp8h",
    "outputId": "adf8d3bc-81b8-4de9-a21f-f277f5d66de6"
   },
   "outputs": [],
   "source": [
    "print(\"Original columns:\", data.columns.tolist())\n",
    "print(\"Original shape:\", data.shape)"
   ]
  },
  {
   "cell_type": "code",
   "execution_count": null,
   "id": "sdwcg3S8phQy",
   "metadata": {
    "id": "sdwcg3S8phQy"
   },
   "outputs": [],
   "source": [
    "df = data.drop(columns=['instant','dteday','registered','casual','yr'])"
   ]
  },
  {
   "cell_type": "code",
   "execution_count": null,
   "id": "SfVlgFzMAy7_",
   "metadata": {
    "colab": {
     "base_uri": "https://localhost:8080/"
    },
    "id": "SfVlgFzMAy7_",
    "outputId": "8b8c4e51-bb48-459b-fa17-975f4b7a0f05"
   },
   "outputs": [],
   "source": [
    "print(\"After dropping columns:\")\n",
    "print(\"New shape:\", df.shape)\n",
    "print(\"Remaining columns:\", df.columns.tolist())"
   ]
  },
  {
   "cell_type": "markdown",
   "id": "dY3ZD7koqK7A",
   "metadata": {
    "id": "dY3ZD7koqK7A"
   },
   "source": [
    "Verificando variables"
   ]
  },
  {
   "cell_type": "code",
   "execution_count": null,
   "id": "K7zKjh-kqIRA",
   "metadata": {
    "colab": {
     "base_uri": "https://localhost:8080/",
     "height": 607
    },
    "id": "K7zKjh-kqIRA",
    "outputId": "5948d90e-fede-463a-e1b3-f4c2bb8bc8c5"
   },
   "outputs": [],
   "source": [
    "df.hist(figsize=(10,6))\n",
    "plt.tight_layout()\n",
    "plt.show()"
   ]
  },
  {
   "cell_type": "markdown",
   "id": "Keeq3OPEqZ94",
   "metadata": {
    "id": "Keeq3OPEqZ94"
   },
   "source": [
    "Definiendo variables"
   ]
  },
  {
   "cell_type": "code",
   "execution_count": null,
   "id": "HY2n0enxqXNK",
   "metadata": {
    "id": "HY2n0enxqXNK"
   },
   "outputs": [],
   "source": [
    "categorico = ['season', 'mnth', 'hr', 'holiday', 'weekday', 'workingday', 'weathersit']\n",
    "numerico = ['temp', 'atemp', 'hum', 'windspeed','cnt']"
   ]
  },
  {
   "cell_type": "markdown",
   "id": "4tAMNpstqhgS",
   "metadata": {
    "id": "4tAMNpstqhgS"
   },
   "source": [
    "Matriz correlaciones"
   ]
  },
  {
   "cell_type": "code",
   "execution_count": null,
   "id": "kXhnh1VaqdpR",
   "metadata": {
    "colab": {
     "base_uri": "https://localhost:8080/",
     "height": 435
    },
    "id": "kXhnh1VaqdpR",
    "outputId": "df5e4175-5ed8-4b3a-ce7f-3e8fbc9ab174"
   },
   "outputs": [],
   "source": [
    "sns.heatmap(df[numerico].corr(),vmax=1.0, vmin=0.0, square=True,annot=True, cmap=\"Blues\")\n",
    "plt.show()"
   ]
  },
  {
   "cell_type": "code",
   "execution_count": null,
   "id": "-GY4zdTNqjkO",
   "metadata": {
    "id": "-GY4zdTNqjkO"
   },
   "outputs": [],
   "source": [
    "entrada_categorico = ['season', 'mnth', 'hr', 'holiday', 'weekday', 'workingday', 'weathersit']\n",
    "entrada_numerico = ['temp', 'hum', 'windspeed']"
   ]
  },
  {
   "cell_type": "code",
   "execution_count": null,
   "id": "oqsgXa_DqywD",
   "metadata": {
    "colab": {
     "base_uri": "https://localhost:8080/"
    },
    "id": "oqsgXa_DqywD",
    "outputId": "2f7cbc11-d4e6-455a-a51a-2106d890dd09"
   },
   "outputs": [],
   "source": [
    "X = df[entrada_categorico+entrada_numerico]\n",
    "Y = df['cnt']\n",
    "x_train,x_test,y_train,y_test=train_test_split(X,Y,\n",
    "                                               random_state=159,\n",
    "                                               test_size=0.2)\n",
    "\n",
    "# Procesamiento\n",
    "modelos = {\n",
    "    \"Lineal\": LinearRegression(),\n",
    "    \"Ridge\": Ridge(),\n",
    "    \"Lasso\": Lasso()\n",
    "}\n",
    "\n",
    "for nombre, modelo in modelos.items():\n",
    "    modelo.fit(x_train, y_train)\n",
    "    train_pred = modelo.predict(x_train)\n",
    "    test_pred = modelo.predict(x_test)\n",
    "\n",
    "    print(f\"Modelo {nombre}\")\n",
    "    print(f\" - MSE entrenamiento: {mean_squared_error(y_train, train_pred):.2f}\")\n",
    "    print(f\" - MSE prueba:        {mean_squared_error(y_test, test_pred):.2f}\")\n",
    "    print(\"-\" * 40)"
   ]
  },
  {
   "cell_type": "code",
   "execution_count": null,
   "id": "p4In-Z-1CBtP",
   "metadata": {
    "colab": {
     "base_uri": "https://localhost:8080/"
    },
    "id": "p4In-Z-1CBtP",
    "outputId": "a1a286c1-a282-4ede-a24f-960c720fed52"
   },
   "outputs": [],
   "source": [
    "print(\"X shape after feature selection:\", X.shape)\n",
    "print(\"X columns:\", X.columns.tolist())\n",
    "print(\"Y shape:\", Y.shape)\n",
    "print(\"Features:\", X.columns.tolist())\n",
    "print(\"Target: cnt (bike rentals)\")"
   ]
  },
  {
   "cell_type": "code",
   "execution_count": null,
   "id": "fqn6VyoIC0mA",
   "metadata": {
    "colab": {
     "base_uri": "https://localhost:8080/"
    },
    "id": "fqn6VyoIC0mA",
    "outputId": "d2c19876-c5db-47eb-eaf0-2cd288a83263"
   },
   "outputs": [],
   "source": [
    "print(\"\\nData quality check:\")\n",
    "print(\"X dtypes:\")\n",
    "print(X.dtypes)\n",
    "print(\"\\nAny missing values in X:\")\n",
    "print(X.isnull().sum())\n",
    "print(\"\\nAny missing values in Y:\")\n",
    "print(Y.isnull().sum())\n"
   ]
  },
  {
   "cell_type": "code",
   "execution_count": null,
   "id": "TBqHDk3DvCak",
   "metadata": {
    "colab": {
     "base_uri": "https://localhost:8080/"
    },
    "id": "TBqHDk3DvCak",
    "outputId": "53f72e9e-0ff8-4a87-e0f1-86c58149d8e2"
   },
   "outputs": [],
   "source": [
    "# One hot enconding\n",
    "df_cat=pd.get_dummies(df[entrada_categorico].astype('object'),\n",
    "               drop_first=True).astype('int')\n",
    "\n",
    "# Uniendo datos de entrada\n",
    "df_entrada=pd.concat([df_cat,df[entrada_numerico]],axis=1)\n",
    "\n",
    "# Procesamiento\n",
    "X=df_entrada\n",
    "Y=df['cnt']\n",
    "x_train,x_test,y_train,y_test=train_test_split(X,Y,\n",
    "                                               random_state=159,\n",
    "                                               test_size=0.2)\n",
    "\n",
    "modelos = {\n",
    "    \"Lineal\": LinearRegression(),\n",
    "    \"Ridge\": Ridge(),\n",
    "    \"Lasso\": Lasso()\n",
    "}\n",
    "\n",
    "for nombre, modelo in modelos.items():\n",
    "    modelo.fit(x_train, y_train)\n",
    "    train_pred = modelo.predict(x_train)\n",
    "    test_pred = modelo.predict(x_test)\n",
    "\n",
    "    print(f\"Modelo {nombre}\")\n",
    "    print(f\" - MSE entrenamiento: {mean_squared_error(y_train, train_pred):.2f}\")\n",
    "    print(f\" - MSE prueba:        {mean_squared_error(y_test, test_pred):.2f}\")\n",
    "    print(\"-\" * 40)"
   ]
  },
  {
   "cell_type": "markdown",
   "id": "OkRVJap1vF_g",
   "metadata": {
    "id": "OkRVJap1vF_g"
   },
   "source": [
    "usando la segunda parte del codigo"
   ]
  },
  {
   "cell_type": "code",
   "execution_count": null,
   "id": "El_4LPPVvGr2",
   "metadata": {
    "id": "El_4LPPVvGr2"
   },
   "outputs": [],
   "source": [
    "# One hot enconding\n",
    "df_cat_dm=pd.get_dummies(df[entrada_categorico].astype('object'),\n",
    "               drop_first=True).astype('int')\n",
    "\n",
    "# Uniendo datos de entrada\n",
    "df_entrada=pd.concat([df_cat_dm, data[entrada_numerico]],axis=1)"
   ]
  },
  {
   "cell_type": "markdown",
   "id": "kljZ9qha-sI_",
   "metadata": {
    "id": "kljZ9qha-sI_"
   },
   "source": [
    "  * Predict daily rentals (`cnt`)\n",
    "\n"
   ]
  },
  {
   "cell_type": "code",
   "execution_count": null,
   "id": "XwWswC1e-oou",
   "metadata": {
    "id": "XwWswC1e-oou"
   },
   "outputs": [],
   "source": [
    "# Procesamiento\n",
    "X=df_entrada\n",
    "Y=df['cnt']\n",
    "x_train,x_test,y_train,y_test=train_test_split(X,Y,\n",
    "                                               random_state=159,\n",
    "                                               test_size=0.2)"
   ]
  },
  {
   "cell_type": "code",
   "execution_count": null,
   "id": "hKd3JU2uuZ2k",
   "metadata": {
    "colab": {
     "base_uri": "https://localhost:8080/"
    },
    "id": "hKd3JU2uuZ2k",
    "outputId": "61f76b1e-3564-441c-fa19-aad8dc3dd923"
   },
   "outputs": [],
   "source": [
    "print(\"\\nAfter train_test_split:\")\n",
    "print(\"x_train shape:\", x_train.shape)\n",
    "print(\"x_test shape:\", x_test.shape)\n",
    "print(\"y_train shape:\", y_train.shape)\n",
    "print(\"y_test shape:\", y_test.shape)\n",
    "print(\"x_train columns:\", x_train.columns.tolist())"
   ]
  },
  {
   "cell_type": "markdown",
   "id": "lHzgA4JaoXl3",
   "metadata": {
    "id": "lHzgA4JaoXl3"
   },
   "source": [
    "   * unit variance\n",
    "\n"
   ]
  },
  {
   "cell_type": "code",
   "execution_count": null,
   "id": "3T7MOHs9QV5Z",
   "metadata": {
    "colab": {
     "base_uri": "https://localhost:8080/"
    },
    "id": "3T7MOHs9QV5Z",
    "outputId": "cf6e5363-0a4c-4bd1-b1b0-1c95220eb3c3"
   },
   "outputs": [],
   "source": [
    "# Standardize features\n",
    "print(\"\\nBefore standardization:\")\n",
    "print(\"x_train shape:\", x_train.shape)\n",
    "\n",
    "scaler = StandardScaler()\n",
    "x_train_scaled = scaler.fit_transform(x_train)\n",
    "x_test_scaled = scaler.transform(x_test)\n",
    "\n",
    "print(\"\\nAfter standardization:\")\n",
    "print(\"x_train_scaled shape:\", x_train_scaled.shape)\n",
    "print(\"x_test_scaled shape:\", x_test_scaled.shape)\n",
    "print(\"Mean: \", x_train_scaled.mean(axis=0))\n",
    "print(\"Variance: \", x_train_scaled.std(axis=0))"
   ]
  },
  {
   "cell_type": "markdown",
   "id": "CyaRC_RPs3bO",
   "metadata": {
    "id": "CyaRC_RPs3bO"
   },
   "source": [
    "#### 2. **Closed-form OLS**\n",
    "\n"
   ]
  },
  {
   "cell_type": "code",
   "execution_count": null,
   "id": "WDv7hr4jtwOq",
   "metadata": {
    "id": "WDv7hr4jtwOq"
   },
   "outputs": [],
   "source": [
    "# (The mathematical derivation is the same as in Part A)"
   ]
  },
  {
   "cell_type": "code",
   "execution_count": null,
   "id": "1zkQF7R9thKc",
   "metadata": {
    "colab": {
     "base_uri": "https://localhost:8080/"
    },
    "id": "1zkQF7R9thKc",
    "outputId": "c9e0a33e-f1b8-40dc-d5be-eb318f93ac59"
   },
   "outputs": [],
   "source": [
    "# Closed-form OLS\n",
    "x_train_b = np.c_[np.ones((x_train_scaled.shape[0], 1)), x_train_scaled]  # adding intercept term\n",
    "\n",
    "beta_hat = np.linalg.inv(x_train_b.T.dot(x_train_b)).dot(x_train_b.T).dot(y_train)\n",
    "\n",
    "print(\"Design matrix shape:\", x_train_b.shape)"
   ]
  },
  {
   "cell_type": "markdown",
   "id": "DX3NTk2s8-gv",
   "metadata": {
    "id": "DX3NTk2s8-gv"
   },
   "source": [
    "   * Report coefficients and intercept."
   ]
  },
  {
   "cell_type": "code",
   "execution_count": null,
   "id": "aEVMcuDP83jL",
   "metadata": {
    "colab": {
     "base_uri": "https://localhost:8080/"
    },
    "id": "aEVMcuDP83jL",
    "outputId": "09773e08-89e4-4bc5-c48d-22baea35f135"
   },
   "outputs": [],
   "source": [
    "# Report coefficients and intercept\n",
    "print(\"Coefficients:\", beta_hat[1:])\n",
    "print(\"Intercept:\", beta_hat[0])"
   ]
  },
  {
   "cell_type": "code",
   "execution_count": null,
   "id": "CcdmnE2d9DpE",
   "metadata": {
    "colab": {
     "base_uri": "https://localhost:8080/",
     "height": 564
    },
    "id": "CcdmnE2d9DpE",
    "outputId": "71a8865e-db2f-487f-995b-b23b2459cacc"
   },
   "outputs": [],
   "source": [
    "# Plot predicted vs true on test set\n",
    "x_test_b = np.c_[np.ones((x_test_scaled.shape[0], 1)), x_test_scaled]  # adding intercept term\n",
    "y_pred = x_test_b.dot(beta_hat)\n",
    "\n",
    "plt.figure(figsize=(8, 6))\n",
    "plt.scatter(y_test, y_pred, alpha=0.5)\n",
    "plt.plot([y_test.min(), y_test.max()], [y_test.min(), y_test.max()], 'r--')\n",
    "plt.xlabel(\"True Bike Rentals\")\n",
    "plt.ylabel(\"Predicted Bike Rentals\")\n",
    "plt.title(\"OLS: Predicted vs True Bike Rentals\")\n",
    "plt.show()"
   ]
  },
  {
   "cell_type": "markdown",
   "id": "0XuWilEz9OO4",
   "metadata": {
    "id": "0XuWilEz9OO4"
   },
   "source": [
    "### 3. **Gradient Descent**"
   ]
  },
  {
   "cell_type": "markdown",
   "id": "aKHhj9jh9US-",
   "metadata": {
    "id": "aKHhj9jh9US-"
   },
   "source": [
    " * Implement gradient descent to minimize mean squared error."
   ]
  },
  {
   "cell_type": "code",
   "execution_count": null,
   "id": "1aMe2CXL9RKZ",
   "metadata": {
    "id": "1aMe2CXL9RKZ"
   },
   "outputs": [],
   "source": [
    "# (The same functions defined in Part A)"
   ]
  },
  {
   "cell_type": "code",
   "execution_count": null,
   "id": "taNP55UF9xN9",
   "metadata": {
    "colab": {
     "base_uri": "https://localhost:8080/"
    },
    "id": "taNP55UF9xN9",
    "outputId": "22f9b71c-7f09-4513-bae1-87cc0129df97"
   },
   "outputs": [],
   "source": [
    "print(\"=== EXPERIMENT 1: Learning Rate = 0.1 ===\")\n",
    "\n",
    "threshold = 1e-3\n",
    "step_size = 0.1\n",
    "max_iter = 10000\n",
    "theta, theta_prev = np.array([2,1] + [0]*(x_train_b.shape[1]-2)), np.ones(x_train_b.shape[1])\n",
    "cost_history1 = []\n",
    "iter = 0\n",
    "\n",
    "while np.linalg.norm(theta - theta_prev) > threshold and iter < max_iter:\n",
    "    if iter % 100 == 0:\n",
    "        current_mse = mse(theta, x_train_b, y_train)\n",
    "        print('Iteration %d. MSE: %.6f' % (iter, current_mse))\n",
    "\n",
    "    # Saving the cost for plotting\n",
    "    cost_history1.append(mse(theta, x_train_b, y_train))\n",
    "\n",
    "    theta_prev = theta.copy()\n",
    "    gradient = mse_gradient(theta, x_train_b, y_train)\n",
    "    theta = theta_prev - step_size * gradient\n",
    "    iter += 1\n",
    "\n",
    "# Adding last cost\n",
    "final_cost1 = mse(theta, x_train_b, y_train)\n",
    "cost_history1.append(final_cost1)\n",
    "print('Final iteration %d. MSE: %.6f' % (iter, final_cost1))\n",
    "\n",
    "# Saving results\n",
    "theta_gd1 = theta.copy()\n",
    "iterations1 = iter\n",
    "\n",
    "print(\"Converged in %d iterations\" % iterations1)\n",
    "print(\"Intercept:\", theta_gd1[0])\n",
    "print(\"Coefficients:\", theta_gd1[1:])\n",
    "print()\n"
   ]
  },
  {
   "cell_type": "code",
   "execution_count": null,
   "id": "FVExWc7s98k-",
   "metadata": {
    "colab": {
     "base_uri": "https://localhost:8080/"
    },
    "id": "FVExWc7s98k-",
    "outputId": "ef71a2b8-9c9b-4832-ee1f-0fe78696c7c5"
   },
   "outputs": [],
   "source": [
    "print(\"=== EXPERIMENT 2: Learning Rate = 0.5 ===\")\n",
    "\n",
    "threshold = 1e-3\n",
    "step_size = 0.5\n",
    "max_iter = 10000\n",
    "theta, theta_prev = np.array([2,1] + [0]*(x_train_b.shape[1]-2)), np.ones(x_train_b.shape[1])\n",
    "cost_history2 = []\n",
    "iter = 0\n",
    "\n",
    "while np.linalg.norm(theta - theta_prev) > threshold and iter < max_iter:\n",
    "    if iter % 100 == 0:\n",
    "        current_mse = mse(theta, x_train_b, y_train)\n",
    "        print('Iteration %d. MSE: %.6f' % (iter, current_mse))\n",
    "\n",
    "    # Saving the cost for plotting\n",
    "    cost_history2.append(mse(theta, x_train_b, y_train))\n",
    "\n",
    "    theta_prev = theta.copy()\n",
    "    gradient = mse_gradient(theta, x_train_b, y_train)\n",
    "    theta = theta_prev - step_size * gradient\n",
    "    iter += 1\n",
    "\n",
    "# Adding last cost\n",
    "final_cost2 = mse(theta, x_train_b, y_train)\n",
    "cost_history2.append(final_cost2)\n",
    "print('Final iteration %d. MSE: %.6f' % (iter, final_cost2))\n",
    "\n",
    "# Saving results\n",
    "theta_gd2 = theta.copy()\n",
    "iterations2 = iter\n",
    "\n",
    "print(\"Converged in %d iterations\" % iterations2)\n",
    "print(\"Intercept:\", theta_gd2[0])\n",
    "print(\"Coefficients:\", theta_gd2[1:])\n",
    "print()"
   ]
  },
  {
   "cell_type": "code",
   "execution_count": null,
   "id": "YL1-sHwb-EtF",
   "metadata": {
    "colab": {
     "base_uri": "https://localhost:8080/",
     "height": 564
    },
    "id": "YL1-sHwb-EtF",
    "outputId": "be20badf-349c-43a5-e920-5bfddcda944a"
   },
   "outputs": [],
   "source": [
    "# Showing cost vs. iteration curves\n",
    "plt.figure(figsize=(10, 6))\n",
    "plt.plot(cost_history1, label='Learning Rate = 0.1', linewidth=2, color='blue')\n",
    "plt.plot(cost_history2, label='Learning Rate = 0.5', linewidth=2, color='orange')\n",
    "plt.xlabel('Iteration')\n",
    "plt.ylabel('Cost (MSE)')\n",
    "plt.title('Cost vs Iteration Curves: Comparison - Bike Sharing Dataset')\n",
    "plt.legend()\n",
    "plt.grid(True, alpha=0.3)\n",
    "plt.show()"
   ]
  },
  {
   "cell_type": "markdown",
   "id": "I_cqAoc7-Kyy",
   "metadata": {
    "id": "I_cqAoc7-Kyy"
   },
   "source": [
    "   * Compare parameters and test error to the closed-form OLS."
   ]
  },
  {
   "cell_type": "code",
   "execution_count": null,
   "id": "_L4KiV4I-Km4",
   "metadata": {
    "colab": {
     "base_uri": "https://localhost:8080/"
    },
    "id": "_L4KiV4I-Km4",
    "outputId": "2a3a867e-bedd-4f58-f312-94a72de0a0e3"
   },
   "outputs": [],
   "source": [
    "# COMPARE PARAMETERS WITH CLOSED-FORM OLS\n",
    "\n",
    "print(\"=== COMPARISON WITH CLOSED-FORM OLS ===\")\n",
    "\n",
    "print(\"Parameters comparison:\")\n",
    "print(\"Closed-form OLS:\")\n",
    "print(\"  Intercept: %.6f\" % beta_hat[0])\n",
    "print(\"  Coefficients: [\", end=\"\")\n",
    "for i, coef in enumerate(beta_hat[1:]):\n",
    "    print(\"%.6f\" % coef, end=\"\")\n",
    "    if i < len(beta_hat[1:]) - 1:\n",
    "        print(\", \", end=\"\")\n",
    "print(\"]\")\n",
    "\n",
    "print(\"\\nGradient Descent (Learning Rate = 0.1):\")\n",
    "print(\"  Intercept: %.6f\" % theta_gd1[0])\n",
    "print(\"  Coefficients: [\", end=\"\")\n",
    "for i, coef in enumerate(theta_gd1[1:]):\n",
    "    print(\"%.6f\" % coef, end=\"\")\n",
    "    if i < len(theta_gd1[1:]) - 1:\n",
    "        print(\", \", end=\"\")\n",
    "print(\"]\")\n",
    "\n",
    "print(\"\\nGradient Descent (Learning Rate = 0.5):\")\n",
    "print(\"  Intercept: %.6f\" % theta_gd2[0])\n",
    "print(\"  Coefficients: [\", end=\"\")\n",
    "for i, coef in enumerate(theta_gd2[1:]):\n",
    "    print(\"%.6f\" % coef, end=\"\")\n",
    "    if i < len(theta_gd2[1:]) - 1:\n",
    "        print(\", \", end=\"\")\n",
    "print(\"]\")\n",
    "\n",
    "# Parameter differences\n",
    "diff1 = np.linalg.norm(theta_gd1 - beta_hat)\n",
    "diff2 = np.linalg.norm(theta_gd2 - beta_hat)\n",
    "print(\"\\nParameter differences (L2 norm):\")\n",
    "print(\"  |θ_GD1 - θ_OLS|: %.8f\" % diff1)\n",
    "print(\"  |θ_GD2 - θ_OLS|: %.8f\" % diff2)\n",
    "\n",
    "# Test error comparison\n",
    "test_mse_ols = mse(beta_hat, x_test_b, y_test)\n",
    "test_mse_gd1 = mse(theta_gd1, x_test_b, y_test)\n",
    "test_mse_gd2 = mse(theta_gd2, x_test_b, y_test)\n",
    "\n",
    "print(\"\\nTest Error (MSE):\")\n",
    "print(\"  Closed-form OLS: %.6f\" % test_mse_ols)\n",
    "print(\"  Gradient Descent (lr=0.1): %.6f\" % test_mse_gd1)\n",
    "print(\"  Gradient Descent (lr=0.5): %.6f\" % test_mse_gd2)\n",
    "\n",
    "print(\"\\nTest Error differences:\")\n",
    "print(\"  |MSE_GD1 - MSE_OLS|: %.8f\" % abs(test_mse_gd1 - test_mse_ols))\n",
    "print(\"  |MSE_GD2 - MSE_OLS|: %.8f\" % abs(test_mse_gd2 - test_mse_ols))"
   ]
  },
  {
   "cell_type": "code",
   "execution_count": null,
   "id": "deWU-SeM_iWT",
   "metadata": {
    "colab": {
     "base_uri": "https://localhost:8080/"
    },
    "id": "deWU-SeM_iWT",
    "outputId": "056e0e2f-77ea-4bf6-ca51-b3de0921b258"
   },
   "outputs": [],
   "source": [
    "print(\"\\n=== SEASONAL EFFECTS INVESTIGATION ===\")\n",
    "\n",
    "# With one-hot encoding, we have many more features\n",
    "feature_names = x_train.columns.tolist()\n",
    "coefficients = beta_hat[1:]\n",
    "\n",
    "print(\"Debug - Final check:\")\n",
    "print(f\"Number of feature names: {len(feature_names)}\")\n",
    "print(f\"Number of coefficients: {len(coefficients)}\")\n",
    "\n",
    "# Create coefficient analysis\n",
    "coef_df = pd.DataFrame({\n",
    "    'Feature': feature_names,\n",
    "    'Coefficient': coefficients,\n",
    "    'Abs_Coefficient': np.abs(coefficients)\n",
    "}).sort_values('Abs_Coefficient', ascending=False)\n",
    "\n",
    "print(\"\\nTop 10 Most Important Features (by coefficient magnitude):\")\n",
    "for _, row in coef_df.head(10).iterrows():\n",
    "    print(f\"  {row['Feature']:<15}: {row['Coefficient']:>8.4f}\")\n"
   ]
  },
  {
   "cell_type": "code",
   "execution_count": null,
   "id": "8EDj4mt2K-ic",
   "metadata": {
    "colab": {
     "base_uri": "https://localhost:8080/",
     "height": 547
    },
    "id": "8EDj4mt2K-ic",
    "outputId": "e5100b78-ea20-40a3-df30-3f81be89efcf"
   },
   "outputs": [],
   "source": [
    "# Visualize seasonal effects\n",
    "plt.figure(figsize=(15, 10))\n",
    "# Average rentals by raw season data\n",
    "plt.subplot(2, 3, 6)\n",
    "seasonal_avg = df.groupby('season')['cnt'].mean()\n",
    "seasons = ['Winter', 'Spring', 'Summer', 'Fall']\n",
    "plt.bar(seasons, seasonal_avg.values)\n",
    "plt.xlabel('Season')\n",
    "plt.ylabel('Average Bike Rentals')\n",
    "plt.title('Average Rentals by Season (Raw Data)')\n",
    "plt.grid(True, alpha=0.3)\n",
    "\n",
    "plt.tight_layout()\n",
    "plt.show()"
   ]
  },
  {
   "cell_type": "markdown",
   "id": "5c2ANgqCtfzu",
   "metadata": {
    "id": "5c2ANgqCtfzu"
   },
   "source": [
    "Se deduce de la data que el invierno concentra la menor cantidad de alquileres, mientras que en verano se alcanza el punto máximo. Primavera y otoño muestran valores intermedios, pero aún altos, lo que confirma que el clima es un factor determinante en la demanda del servicio."
   ]
  },
  {
   "cell_type": "code",
   "execution_count": null,
   "id": "GfHN9Y66Kxxj",
   "metadata": {
    "colab": {
     "base_uri": "https://localhost:8080/",
     "height": 515
    },
    "id": "GfHN9Y66Kxxj",
    "outputId": "a50ab369-5637-40c5-8e60-415779064c58"
   },
   "outputs": [],
   "source": [
    "# Visualize seasonal effects\n",
    "plt.figure(figsize=(15, 10))\n",
    "# Seasonal coefficients specifically\n",
    "plt.subplot(2, 3, 2)\n",
    "seasonal_features = coef_df[coef_df['Feature'].str.contains('season_')]\n",
    "if len(seasonal_features) > 0:\n",
    "    plt.bar(['Winter (base)', 'Spring', 'Summer', 'Fall'],\n",
    "            [0] + seasonal_features['Coefficient'].tolist())\n",
    "    plt.xlabel('Season')\n",
    "    plt.ylabel('Coefficient Value')\n",
    "    plt.title('Season Coefficients (vs Winter baseline)')\n",
    "    plt.xticks(rotation=45)\n",
    "else:\n",
    "    # Fallback: show original seasonal averages\n",
    "    seasonal_avg = df.groupby('season')['cnt'].mean()\n",
    "    seasons = ['Winter', 'Spring', 'Summer', 'Fall']\n",
    "    plt.bar(seasons, seasonal_avg.values)\n",
    "    plt.xlabel('Season')\n",
    "    plt.ylabel('Average Bike Rentals')\n",
    "    plt.title('Average Rentals by Season')\n",
    "plt.grid(True, alpha=0.3)"
   ]
  },
  {
   "cell_type": "markdown",
   "id": "PtSvXFR8Nu6c",
   "metadata": {
    "id": "PtSvXFR8Nu6c"
   },
   "source": [
    "**conclusión**\n",
    "\n",
    "El invierno actúa como categoría base. En comparación, la primavera muestra el mayor incremento esperado, con alrededor de 28 unidades más que el invierno. El verano refleja un aumento de unas 16 unidades y el otoño de unas 10. Todas las estaciones elevan la demanda respecto al invierno, sie"
   ]
  },
  {
   "cell_type": "code",
   "execution_count": null,
   "id": "-_OrOgWlK5zR",
   "metadata": {
    "colab": {
     "base_uri": "https://localhost:8080/",
     "height": 527
    },
    "id": "-_OrOgWlK5zR",
    "outputId": "3e96f2ef-9e24-4b3c-b49c-65a1389593f0"
   },
   "outputs": [],
   "source": [
    "# Visualize seasonal effects\n",
    "plt.figure(figsize=(15, 10))\n",
    "# Weather coefficients\n",
    "plt.subplot(2, 3, 4)\n",
    "weather_features = coef_df[coef_df['Feature'].str.contains('weathersit_')]\n",
    "if len(weather_features) > 0:\n",
    "    plt.bar(['Clear (base)', 'Misty', 'Light Rain/Snow', 'Heavy Rain'][:len(weather_features)+1],\n",
    "            [0] + weather_features['Coefficient'].tolist())\n",
    "    plt.xlabel('Weather Situation')\n",
    "    plt.ylabel('Coefficient (vs Clear baseline)')\n",
    "    plt.title('Weather Coefficients')\n",
    "    plt.xticks(rotation=45)\n",
    "else:\n",
    "    # Fallback: show original weather averages\n",
    "    weather_avg = df.groupby('weathersit')['cnt'].mean()\n",
    "    weather_labels = ['Clear', 'Misty', 'Light Rain/Snow', 'Heavy Rain'][:len(weather_avg)]\n",
    "    plt.bar(weather_labels, weather_avg.values)\n",
    "    plt.xlabel('Weather Situation')\n",
    "    plt.ylabel('Average Bike Rentals')\n",
    "    plt.title('Average Rentals by Weather')\n",
    "    plt.xticks(rotation=45)\n",
    "plt.grid(True, alpha=0.3)"
   ]
  },
  {
   "cell_type": "markdown",
   "id": "6HN_MyjsPE2P",
   "metadata": {
    "id": "6HN_MyjsPE2P"
   },
   "source": [
    "**conclusión:**\n",
    "\n",
    "El clima despejado es la base. En comparación, la neblina reduce en promedio 16 unidades en cnt, la lluvia ligera o nieve cerca de 2, y la lluvia fuerte menos de 1. En conclusión, todas las condiciones climáticas disminuyen la demanda.\n"
   ]
  },
  {
   "cell_type": "code",
   "execution_count": null,
   "id": "wRjF4tHhK8xG",
   "metadata": {
    "colab": {
     "base_uri": "https://localhost:8080/",
     "height": 452
    },
    "id": "wRjF4tHhK8xG",
    "outputId": "24fe584f-847f-4176-a47f-f775c8561562"
   },
   "outputs": [],
   "source": [
    "# Visualize seasonal effects\n",
    "plt.figure(figsize=(15, 10))\n",
    "# Temperature, humidity, windspeed\n",
    "plt.subplot(2, 3, 5)\n",
    "numeric_features = coef_df[coef_df['Feature'].isin(['temp', 'hum', 'windspeed'])]\n",
    "plt.bar(numeric_features['Feature'], numeric_features['Coefficient'])\n",
    "plt.xlabel('Numeric Features')\n",
    "plt.ylabel('Coefficient Value')\n",
    "plt.title('Numeric Feature Coefficients')\n",
    "plt.grid(True, alpha=0.3)"
   ]
  },
  {
   "cell_type": "markdown",
   "id": "F4yK8d9mQTNu",
   "metadata": {
    "id": "F4yK8d9mQTNu"
   },
   "source": [
    "**conclusión de lo aprendido:**\n",
    "\n",
    "En las variables numéricas, un aumento de una unidad en la temperatura (escala normalizada) se asocia con un incremento de aproximadamente 57 unidades en cnt (número total de bicicletas alquiladas), lo que confirma que temperaturas más altas impulsan la demanda. En contraste, la humedad reduce en promedio 22 unidades y la velocidad del viento alrededor de 6. En conjunto, la temperatura es el factor con mayor efecto positivo, mientras que la humedad y el viento influyen de forma negativa, siendo la humedad el factor más determinante en la caída de la demanda."
   ]
  },
  {
   "cell_type": "markdown",
   "id": "XQErDPNNLNHl",
   "metadata": {
    "id": "XQErDPNNLNHl"
   },
   "source": [
    "El modelo, mediante one-hot encoding, permitió identificar los efectos individuales de cada categoría sobre cnt (número total de bicicletas alquiladas). Se evidenció que la temperatura impulsa fuertemente la demanda, mientras que el clima adverso la reduce. "
   ]
  },
  {
   "cell_type": "markdown",
   "id": "UNQx_BG4HN9E",
   "metadata": {
    "id": "UNQx_BG4HN9E"
   },
   "source": [
    "## Part D - Linear Models\n",
    "4. **Baseline**\n",
    "\n",
    "   * Use `LinearRegression` and confirm the coefficients match your OLS implementation."
   ]
  },
  {
   "cell_type": "code",
   "execution_count": null,
   "id": "TvhPYH5_HAGD",
   "metadata": {
    "colab": {
     "base_uri": "https://localhost:8080/"
    },
    "id": "TvhPYH5_HAGD",
    "outputId": "2ee25ca5-1544-45d6-e585-898659db7c3c"
   },
   "outputs": [],
   "source": [
    "lin_reg = LinearRegression()\n",
    "lin_reg.fit(x_train_scaled, y_train)\n",
    "\n",
    "\n",
    "coef_df = pd.DataFrame({\n",
    "    \"Feature\": df_entrada.columns,              # nombres de las variables\n",
    "    \"OLS_from_scratch\": beta_hat[1:],           # coeficientes OLS (sin intercepto)\n",
    "    \"LinearRegression_sklearn\": lin_reg.coef_   # coeficientes sklearn\n",
    "})\n",
    "\n",
    "\n",
    "intercept_df = pd.DataFrame({\n",
    "    \"Feature\": [\"Intercept\"],\n",
    "    \"OLS_from_scratch\": [beta_hat[0]],\n",
    "    \"LinearRegression_sklearn\": [lin_reg.intercept_]\n",
    "})\n",
    "\n",
    "coef_table = pd.concat([intercept_df, coef_df], ignore_index=True)\n",
    "print(coef_table)\n"
   ]
  },
  {
   "cell_type": "markdown",
   "id": "mrd86CT9QG_M",
   "metadata": {
    "id": "mrd86CT9QG_M"
   },
   "source": [
    "   * Compute $R^2$ and mean squared error on the test set."
   ]
  },
  {
   "cell_type": "code",
   "execution_count": null,
   "id": "fYWOZ7VnQCad",
   "metadata": {
    "colab": {
     "base_uri": "https://localhost:8080/"
    },
    "id": "fYWOZ7VnQCad",
    "outputId": "689b00b8-ea21-4815-f4a8-64ee745494b4"
   },
   "outputs": [],
   "source": [
    "y_pred_test_sklearn = lin_reg.predict(x_test_scaled)\n",
    "\n",
    "print(\"MSE (test):\", mean_squared_error(y_test, y_pred_test_sklearn))\n",
    "print(\"R²  (test):\", r2_score(y_test, y_pred_test_sklearn))\n"
   ]
  },
  {
   "cell_type": "markdown",
   "id": "jiMJJUtKveM1",
   "metadata": {
    "id": "jiMJJUtKveM1"
   },
   "source": [
    "### Parte D - Part C. Regularization\n",
    "\n",
    "5. **Ridge versus Lasso**\n"
   ]
  },
  {
   "cell_type": "code",
   "execution_count": null,
   "id": "Stj4KB_LvVO7",
   "metadata": {
    "id": "Stj4KB_LvVO7"
   },
   "outputs": [],
   "source": [
    "lambdas=np.logspace(-3,2,)\n",
    "ridge_coefs=[]\n",
    "lasso_coefs=[]\n",
    "\n",
    "for l in lambdas:\n",
    "    ridge_model=Ridge(alpha=l)\n",
    "    ridge_model.fit(x_train,y_train)\n",
    "    ridge_coefs.append(ridge_model.coef_)\n",
    "\n",
    "    lasso_model=Lasso(alpha=l)\n",
    "    lasso_model.fit(x_train,y_train)\n",
    "    lasso_coefs.append(lasso_model.coef_)"
   ]
  },
  {
   "cell_type": "code",
   "execution_count": null,
   "id": "181OcWi1xNBB",
   "metadata": {
    "colab": {
     "base_uri": "https://localhost:8080/",
     "height": 940
    },
    "id": "181OcWi1xNBB",
    "outputId": "c068ec95-87ae-4ab2-9082-99fa27e22196"
   },
   "outputs": [],
   "source": [
    "plt.figure(figsize=(14,5))\n",
    "\n",
    "# --- Lasso ---\n",
    "plt.subplot(1,2,1)\n",
    "plt.plot(lambdas, lasso_coefs)\n",
    "plt.xscale('log')\n",
    "plt.title('Lasso: Coeficientes vs λ')\n",
    "plt.ylabel('Magnitud')\n",
    "plt.xlabel('Parámetro de regularización λ (escala log)')\n",
    "plt.legend(df_entrada.columns, loc='upper right', fontsize=8)\n",
    "plt.grid(True, ls='--', alpha=0.5)\n",
    "\n",
    "# --- Ridge ---\n",
    "plt.subplot(1,2,2)\n",
    "plt.plot(lambdas, ridge_coefs)\n",
    "plt.xscale('log')\n",
    "plt.title('Ridge: Coeficientes vs λ')\n",
    "plt.xlabel('Parámetro de regularización λ (escala log)')\n",
    "plt.ylabel('Magnitud')\n",
    "plt.legend(df_entrada.columns, loc='upper right', fontsize=8)\n",
    "plt.grid(True, ls='--', alpha=0.5)\n",
    "\n",
    "plt.tight_layout()\n",
    "plt.show()"
   ]
  },
  {
   "cell_type": "code",
   "execution_count": null,
   "id": "EpoNx_2OxUIj",
   "metadata": {
    "colab": {
     "base_uri": "https://localhost:8080/"
    },
    "id": "EpoNx_2OxUIj",
    "outputId": "f4e29c1f-0413-4e92-b00e-17782cd7d999"
   },
   "outputs": [],
   "source": [
    "# Kfolds to select the best alpha\n",
    "\n",
    "ridge_model=Ridge()\n",
    "lasso_model=Lasso()\n",
    "\n",
    "K = 5\n",
    "param_grid = {'alpha': lambdas}\n",
    "kfold = KFold(K, random_state=0, shuffle=True)\n",
    "\n",
    "# Modelo Ridge\n",
    "grid_r = GridSearchCV(ridge_model,\n",
    "                        param_grid,\n",
    "                        cv=kfold,\n",
    "                        scoring='neg_mean_squared_error')\n",
    "grid_r.fit(x_train, y_train)\n",
    "\n",
    "# Modelo Lasso\n",
    "grid_l = GridSearchCV(lasso_model,\n",
    "                        param_grid,\n",
    "                        cv=kfold,\n",
    "                        scoring='neg_mean_squared_error')\n",
    "grid_l.fit(x_train, y_train)\n",
    "\n",
    "print(f'''\n",
    "Mejores alphas con Ridge y Lasso\n",
    "alpha_lasso:{grid_l.best_params_['alpha']}\n",
    "alpha_ridge:{grid_r.best_params_['alpha']}\n",
    "''')"
   ]
  },
  {
   "cell_type": "code",
   "execution_count": null,
   "id": "d5tFOGtzxXI8",
   "metadata": {
    "colab": {
     "base_uri": "https://localhost:8080/"
    },
    "id": "d5tFOGtzxXI8",
    "outputId": "3456176b-f30b-4dc5-f888-a0278e958a8c"
   },
   "outputs": [],
   "source": [
    "lasso_cv=LassoCV(cv=kfold,\n",
    "                 alphas=lambdas)\n",
    "lasso_cv.fit(x_train,y_train)\n",
    "\n",
    "ridge_cv=RidgeCV(cv=kfold,\n",
    "                 alphas=lambdas)\n",
    "ridge_cv.fit(x_train,y_train)\n",
    "\n",
    "print(f'''\n",
    "Mejores alphas con Ridge_CV y Lasso_CV\n",
    "alpha_lasso:{lasso_cv.alpha_}\n",
    "alpha_ridge:{ridge_cv.alpha_}\n",
    "''')"
   ]
  },
  {
   "cell_type": "code",
   "execution_count": null,
   "id": "uJ-wdud-xY9a",
   "metadata": {
    "colab": {
     "base_uri": "https://localhost:8080/"
    },
    "id": "uJ-wdud-xY9a",
    "outputId": "e1a67388-a0de-494a-f35c-85dc4d59c71a"
   },
   "outputs": [],
   "source": [
    "mse_lassocv=((y_test-lasso_cv.predict(x_test))**2).mean()\n",
    "mse_ridgecv=((y_test-ridge_cv.predict(x_test))**2).mean()\n",
    "\n",
    "r2_ridge=r2_score(y_test,ridge_cv.predict(x_test))\n",
    "r2_lasso=r2_score(y_test,lasso_cv.predict(x_test))\n",
    "\n",
    "print(f'''\n",
    "Comparación de mse en los datos de prueba\n",
    "mse_lasso_cv: {mse_lassocv:.6f}\n",
    "mse_ridge_cv: {mse_ridgecv:.6f}\n",
    "''')\n",
    "print(f'''\n",
    "Comparación de r2 en los datos de prueba\n",
    "rr2_ridge_cv: {r2_ridge:.6f}\n",
    "rr2_lasso_cv: {r2_lasso:.6f}\n",
    "''')"
   ]
  },
  {
   "cell_type": "markdown",
   "id": "KH3Nk-XaxdFt",
   "metadata": {
    "id": "KH3Nk-XaxdFt"
   },
   "source": [
    "**Engineering & Multicollinearity**\n",
    "\n",
    "  * Add polynomial features (degree 2) using `PolynomialFeatures`.\n",
    "  * Re-run Ridge/Lasso and discuss how regularization copes with the enlarged feature space."
   ]
  },
  {
   "cell_type": "code",
   "execution_count": null,
   "id": "VBDpNkZ5xbEP",
   "metadata": {
    "id": "VBDpNkZ5xbEP"
   },
   "outputs": [],
   "source": [
    "# Todas las combinaciones posibles exceptuando las variables dummie\n",
    "polinomios=PolynomialFeatures(degree=2,\n",
    "                              include_bias=False)\n",
    "X_num_poly=polinomios.fit_transform(df[entrada_numerico])\n",
    "\n",
    "X_num_poly=pd.DataFrame(X_num_poly)\n",
    "X_num_poly.columns = X_num_poly.columns.astype(str)"
   ]
  },
  {
   "cell_type": "code",
   "execution_count": null,
   "id": "lUxKtLUlxfGf",
   "metadata": {
    "colab": {
     "base_uri": "https://localhost:8080/"
    },
    "id": "lUxKtLUlxfGf",
    "outputId": "c87f2884-3a26-4841-b5a3-31cabfdbe86a"
   },
   "outputs": [],
   "source": [
    "import warnings\n",
    "X=pd.concat([X_num_poly,df_cat_dm],axis=1)\n",
    "Y=df['cnt']\n",
    "\n",
    "x_train,x_test,y_train,y_test=train_test_split(X,Y,\n",
    "                                               random_state=159,\n",
    "                                               test_size=0.2)\n",
    "\n",
    "with warnings.catch_warnings():\n",
    "    warnings.simplefilter(\"ignore\")\n",
    "    lasso_cv_poly=LassoCV(cv=kfold,\n",
    "                 alphas=lambdas)\n",
    "    lasso_cv_poly.fit(x_train,y_train)\n",
    "\n",
    "    ridge_cv_poly=RidgeCV(cv=kfold,\n",
    "                 alphas=lambdas)\n",
    "    ridge_cv_poly.fit(x_train,y_train)\n",
    "\n",
    "mse_lasso_poly= ((y_test - lasso_cv_poly.predict(x_test))**2).mean()\n",
    "mse_ridge_poly= ((y_test - ridge_cv_poly.predict(x_test))**2).mean()\n",
    "\n",
    "print(f'''\n",
    "Funcion polinomica: lasso vs ridge\n",
    "mse lasso: {mse_lasso_poly}\n",
    "mse ridge: {mse_ridge_poly}\n",
    "''')"
   ]
  }
 ],
 "metadata": {
  "colab": {
   "provenance": []
  },
  "kernelspec": {
   "display_name": "Python 3",
   "language": "python",
   "name": "python3"
  },
  "language_info": {
   "codemirror_mode": {
    "name": "ipython",
    "version": 3
   },
   "file_extension": ".py",
   "mimetype": "text/x-python",
   "name": "python",
   "nbconvert_exporter": "python",
   "pygments_lexer": "ipython3",
   "version": "3.13.2"
  }
 },
 "nbformat": 4,
 "nbformat_minor": 5
}
